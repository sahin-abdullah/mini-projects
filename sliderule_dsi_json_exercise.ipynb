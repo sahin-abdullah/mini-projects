{
 "cells": [
  {
   "cell_type": "markdown",
   "metadata": {},
   "source": [
    "# JSON examples and exercise\n",
    "****\n",
    "+ get familiar with packages for dealing with JSON\n",
    "+ study examples with JSON strings and files \n",
    "+ work on exercise to be completed and submitted \n",
    "****\n",
    "+ reference: http://pandas.pydata.org/pandas-docs/stable/io.html#io-json-reader\n",
    "****"
   ]
  },
  {
   "cell_type": "code",
   "execution_count": 1,
   "metadata": {},
   "outputs": [],
   "source": [
    "import pandas as pd"
   ]
  },
  {
   "cell_type": "markdown",
   "metadata": {},
   "source": [
    "## imports for Python, Pandas"
   ]
  },
  {
   "cell_type": "code",
   "execution_count": 2,
   "metadata": {},
   "outputs": [],
   "source": [
    "import json\n",
    "from pandas.io.json import json_normalize"
   ]
  },
  {
   "cell_type": "markdown",
   "metadata": {},
   "source": [
    "## JSON example, with string\n",
    "\n",
    "+ demonstrates creation of normalized dataframes (tables) from nested json string\n",
    "+ source: http://pandas.pydata.org/pandas-docs/stable/io.html#normalization"
   ]
  },
  {
   "cell_type": "code",
   "execution_count": 3,
   "metadata": {},
   "outputs": [],
   "source": [
    "# define json string\n",
    "data = [{'state': 'Florida', \n",
    "         'shortname': 'FL',\n",
    "         'info': {'governor': 'Rick Scott'},\n",
    "         'counties': [{'name': 'Dade', 'population': 12345},\n",
    "                      {'name': 'Broward', 'population': 40000},\n",
    "                      {'name': 'Palm Beach', 'population': 60000}]},\n",
    "        {'state': 'Ohio',\n",
    "         'shortname': 'OH',\n",
    "         'info': {'governor': 'John Kasich'},\n",
    "         'counties': [{'name': 'Summit', 'population': 1234},\n",
    "                      {'name': 'Cuyahoga', 'population': 1337}]}]"
   ]
  },
  {
   "cell_type": "code",
   "execution_count": 4,
   "metadata": {},
   "outputs": [
    {
     "data": {
      "text/html": "<div>\n<style scoped>\n    .dataframe tbody tr th:only-of-type {\n        vertical-align: middle;\n    }\n\n    .dataframe tbody tr th {\n        vertical-align: top;\n    }\n\n    .dataframe thead th {\n        text-align: right;\n    }\n</style>\n<table border=\"1\" class=\"dataframe\">\n  <thead>\n    <tr style=\"text-align: right;\">\n      <th></th>\n      <th>name</th>\n      <th>population</th>\n    </tr>\n  </thead>\n  <tbody>\n    <tr>\n      <td>0</td>\n      <td>Dade</td>\n      <td>12345</td>\n    </tr>\n    <tr>\n      <td>1</td>\n      <td>Broward</td>\n      <td>40000</td>\n    </tr>\n    <tr>\n      <td>2</td>\n      <td>Palm Beach</td>\n      <td>60000</td>\n    </tr>\n    <tr>\n      <td>3</td>\n      <td>Summit</td>\n      <td>1234</td>\n    </tr>\n    <tr>\n      <td>4</td>\n      <td>Cuyahoga</td>\n      <td>1337</td>\n    </tr>\n  </tbody>\n</table>\n</div>",
      "text/plain": "         name  population\n0        Dade       12345\n1     Broward       40000\n2  Palm Beach       60000\n3      Summit        1234\n4    Cuyahoga        1337"
     },
     "execution_count": 4,
     "metadata": {},
     "output_type": "execute_result"
    }
   ],
   "source": [
    "# use normalization to create tables from nested element\n",
    "json_normalize(data, 'counties')"
   ]
  },
  {
   "cell_type": "code",
   "execution_count": 5,
   "metadata": {},
   "outputs": [
    {
     "data": {
      "text/html": "<div>\n<style scoped>\n    .dataframe tbody tr th:only-of-type {\n        vertical-align: middle;\n    }\n\n    .dataframe tbody tr th {\n        vertical-align: top;\n    }\n\n    .dataframe thead th {\n        text-align: right;\n    }\n</style>\n<table border=\"1\" class=\"dataframe\">\n  <thead>\n    <tr style=\"text-align: right;\">\n      <th></th>\n      <th>name</th>\n      <th>population</th>\n      <th>state</th>\n      <th>shortname</th>\n      <th>info.governor</th>\n    </tr>\n  </thead>\n  <tbody>\n    <tr>\n      <td>0</td>\n      <td>Dade</td>\n      <td>12345</td>\n      <td>Florida</td>\n      <td>FL</td>\n      <td>Rick Scott</td>\n    </tr>\n    <tr>\n      <td>1</td>\n      <td>Broward</td>\n      <td>40000</td>\n      <td>Florida</td>\n      <td>FL</td>\n      <td>Rick Scott</td>\n    </tr>\n    <tr>\n      <td>2</td>\n      <td>Palm Beach</td>\n      <td>60000</td>\n      <td>Florida</td>\n      <td>FL</td>\n      <td>Rick Scott</td>\n    </tr>\n    <tr>\n      <td>3</td>\n      <td>Summit</td>\n      <td>1234</td>\n      <td>Ohio</td>\n      <td>OH</td>\n      <td>John Kasich</td>\n    </tr>\n    <tr>\n      <td>4</td>\n      <td>Cuyahoga</td>\n      <td>1337</td>\n      <td>Ohio</td>\n      <td>OH</td>\n      <td>John Kasich</td>\n    </tr>\n  </tbody>\n</table>\n</div>",
      "text/plain": "         name  population    state shortname info.governor\n0        Dade       12345  Florida        FL    Rick Scott\n1     Broward       40000  Florida        FL    Rick Scott\n2  Palm Beach       60000  Florida        FL    Rick Scott\n3      Summit        1234     Ohio        OH   John Kasich\n4    Cuyahoga        1337     Ohio        OH   John Kasich"
     },
     "execution_count": 5,
     "metadata": {},
     "output_type": "execute_result"
    }
   ],
   "source": [
    "# further populate tables created from nested element\n",
    "json_normalize(data, 'counties', ['state', 'shortname', ['info', 'governor']])"
   ]
  },
  {
   "cell_type": "markdown",
   "metadata": {},
   "source": [
    "****\n",
    "## JSON example, with file\n",
    "\n",
    "+ demonstrates reading in a json file as a string and as a table\n",
    "+ uses small sample file containing data about projects funded by the World Bank "
   ]
  },
  {
   "cell_type": "code",
   "execution_count": 6,
   "metadata": {},
   "outputs": [
    {
     "data": {
      "text/plain": "[{'_id': {'$oid': '52b213b38594d8a2be17c780'},\n  'approvalfy': 1999,\n  'board_approval_month': 'November',\n  'boardapprovaldate': '2013-11-12T00:00:00Z',\n  'borrower': 'FEDERAL DEMOCRATIC REPUBLIC OF ETHIOPIA',\n  'closingdate': '2018-07-07T00:00:00Z',\n  'country_namecode': 'Federal Democratic Republic of Ethiopia!$!ET',\n  'countrycode': 'ET',\n  'countryname': 'Federal Democratic Republic of Ethiopia',\n  'countryshortname': 'Ethiopia',\n  'docty': 'Project Information Document,Indigenous Peoples Plan,Project Information Document',\n  'envassesmentcategorycode': 'C',\n  'grantamt': 0,\n  'ibrdcommamt': 0,\n  'id': 'P129828',\n  'idacommamt': 130000000,\n  'impagency': 'MINISTRY OF EDUCATION',\n  'lendinginstr': 'Investment Project Financing',\n  'lendinginstrtype': 'IN',\n  'lendprojectcost': 550000000,\n  'majorsector_percent': [{'Name': 'Education', 'Percent': 46},\n   {'Name': 'Education', 'Percent': 26},\n   {'Name': 'Public Administration, Law, and Justice', 'Percent': 16},\n   {'Name': 'Education', 'Percent': 12}],\n  'mjsector_namecode': [{'name': 'Education', 'code': 'EX'},\n   {'name': 'Education', 'code': 'EX'},\n   {'name': 'Public Administration, Law, and Justice', 'code': 'BX'},\n   {'name': 'Education', 'code': 'EX'}],\n  'mjtheme': ['Human development'],\n  'mjtheme_namecode': [{'name': 'Human development', 'code': '8'},\n   {'name': '', 'code': '11'}],\n  'mjthemecode': '8,11',\n  'prodline': 'PE',\n  'prodlinetext': 'IBRD/IDA',\n  'productlinetype': 'L',\n  'project_abstract': {'cdata': 'The development objective of the Second Phase of General Education Quality Improvement Project for Ethiopia is to improve learning conditions in primary and secondary schools and strengthen institutions at different levels of educational administration. The project has six components. The first component is curriculum, textbooks, assessment, examinations, and inspection. This component will support improvement of learning conditions in grades KG-12 by providing increased access to teaching and learning materials and through improvements to the curriculum by assessing the strengths and weaknesses of the current curriculum. This component has following four sub-components: (i) curriculum reform and implementation; (ii) teaching and learning materials; (iii) assessment and examinations; and (iv) inspection. The second component is teacher development program (TDP). This component will support improvements in learning conditions in both primary and secondary schools by advancing the quality of teaching in general education through: (a) enhancing the training of pre-service teachers in teacher education institutions; and (b) improving the quality of in-service teacher training. This component has following three sub-components: (i) pre-service teacher training; (ii) in-service teacher training; and (iii) licensing and relicensing of teachers and school leaders. The third component is school improvement plan. This component will support the strengthening of school planning in order to improve learning outcomes, and to partly fund the school improvement plans through school grants. It has following two sub-components: (i) school improvement plan; and (ii) school grants. The fourth component is management and capacity building, including education management information systems (EMIS). This component will support management and capacity building aspect of the project. This component has following three sub-components: (i) capacity building for education planning and management; (ii) capacity building for school planning and management; and (iii) EMIS. The fifth component is improving the quality of learning and teaching in secondary schools and universities through the use of information and communications technology (ICT). It has following five sub-components: (i) national policy and institution for ICT in general education; (ii) national ICT infrastructure improvement plan for general education; (iii) develop an integrated monitoring, evaluation, and learning system specifically for the ICT component; (iv) teacher professional development in the use of ICT; and (v) provision of limited number of e-Braille display readers with the possibility to scale up to all secondary education schools based on the successful implementation and usage of the readers. The sixth component is program coordination, monitoring and evaluation, and communication. It will support institutional strengthening by developing capacities in all aspects of program coordination, monitoring and evaluation; a new sub-component on communications will support information sharing for better management and accountability. It has following three sub-components: (i) program coordination; (ii) monitoring and evaluation (M and E); and (iii) communication.'},\n  'project_name': 'Ethiopia General Education Quality Improvement Project II',\n  'projectdocs': [{'DocTypeDesc': 'Project Information Document (PID),  Vol.',\n    'DocType': 'PID',\n    'EntityID': '090224b081e545fb_1_0',\n    'DocURL': 'http://www-wds.worldbank.org/servlet/WDSServlet?pcont=details&eid=090224b081e545fb_1_0',\n    'DocDate': '28-AUG-2013'},\n   {'DocTypeDesc': 'Indigenous Peoples Plan (IP),  Vol.1 of 1',\n    'DocType': 'IP',\n    'EntityID': '000442464_20130920111729',\n    'DocURL': 'http://www-wds.worldbank.org/servlet/WDSServlet?pcont=details&eid=000442464_20130920111729',\n    'DocDate': '01-JUL-2013'},\n   {'DocTypeDesc': 'Project Information Document (PID),  Vol.',\n    'DocType': 'PID',\n    'EntityID': '090224b0817b19e2_1_0',\n    'DocURL': 'http://www-wds.worldbank.org/servlet/WDSServlet?pcont=details&eid=090224b0817b19e2_1_0',\n    'DocDate': '22-NOV-2012'}],\n  'projectfinancialtype': 'IDA',\n  'projectstatusdisplay': 'Active',\n  'regionname': 'Africa',\n  'sector': [{'Name': 'Primary education'},\n   {'Name': 'Secondary education'},\n   {'Name': 'Public administration- Other social services'},\n   {'Name': 'Tertiary education'}],\n  'sector1': {'Name': 'Primary education', 'Percent': 46},\n  'sector2': {'Name': 'Secondary education', 'Percent': 26},\n  'sector3': {'Name': 'Public administration- Other social services',\n   'Percent': 16},\n  'sector4': {'Name': 'Tertiary education', 'Percent': 12},\n  'sector_namecode': [{'name': 'Primary education', 'code': 'EP'},\n   {'name': 'Secondary education', 'code': 'ES'},\n   {'name': 'Public administration- Other social services', 'code': 'BS'},\n   {'name': 'Tertiary education', 'code': 'ET'}],\n  'sectorcode': 'ET,BS,ES,EP',\n  'source': 'IBRD',\n  'status': 'Active',\n  'supplementprojectflg': 'N',\n  'theme1': {'Name': 'Education for all', 'Percent': 100},\n  'theme_namecode': [{'name': 'Education for all', 'code': '65'}],\n  'themecode': '65',\n  'totalamt': 130000000,\n  'totalcommamt': 130000000,\n  'url': 'http://www.worldbank.org/projects/P129828/ethiopia-general-education-quality-improvement-project-ii?lang=en'},\n {'_id': {'$oid': '52b213b38594d8a2be17c781'},\n  'approvalfy': 2015,\n  'board_approval_month': 'November',\n  'boardapprovaldate': '2013-11-04T00:00:00Z',\n  'borrower': 'GOVERNMENT OF TUNISIA',\n  'country_namecode': 'Republic of Tunisia!$!TN',\n  'countrycode': 'TN',\n  'countryname': 'Republic of Tunisia',\n  'countryshortname': 'Tunisia',\n  'docty': 'Project Information Document,Integrated Safeguards Data Sheet,Integrated Safeguards Data Sheet,Project Information Document,Integrated Safeguards Data Sheet,Project Information Document',\n  'envassesmentcategorycode': 'C',\n  'grantamt': 4700000,\n  'ibrdcommamt': 0,\n  'id': 'P144674',\n  'idacommamt': 0,\n  'impagency': 'MINISTRY OF FINANCE',\n  'lendinginstr': 'Specific Investment Loan',\n  'lendinginstrtype': 'IN',\n  'lendprojectcost': 5700000,\n  'majorsector_percent': [{'Name': 'Public Administration, Law, and Justice',\n    'Percent': 70},\n   {'Name': 'Public Administration, Law, and Justice', 'Percent': 30}],\n  'mjsector_namecode': [{'name': 'Public Administration, Law, and Justice',\n    'code': 'BX'},\n   {'name': 'Public Administration, Law, and Justice', 'code': 'BX'}],\n  'mjtheme': ['Economic management', 'Social protection and risk management'],\n  'mjtheme_namecode': [{'name': 'Economic management', 'code': '1'},\n   {'name': 'Social protection and risk management', 'code': '6'}],\n  'mjthemecode': '1,6',\n  'prodline': 'RE',\n  'prodlinetext': 'Recipient Executed Activities',\n  'productlinetype': 'L',\n  'project_name': 'TN: DTF Social Protection Reforms Support',\n  'projectdocs': [{'DocTypeDesc': 'Project Information Document (PID),  Vol.1 of 1',\n    'DocType': 'PID',\n    'EntityID': '000333037_20131024115616',\n    'DocURL': 'http://www-wds.worldbank.org/servlet/WDSServlet?pcont=details&eid=000333037_20131024115616',\n    'DocDate': '29-MAR-2013'},\n   {'DocTypeDesc': 'Integrated Safeguards Data Sheet (ISDS),  Vol.1 of 1',\n    'DocType': 'ISDS',\n    'EntityID': '000356161_20131024151611',\n    'DocURL': 'http://www-wds.worldbank.org/servlet/WDSServlet?pcont=details&eid=000356161_20131024151611',\n    'DocDate': '29-MAR-2013'},\n   {'DocTypeDesc': 'Integrated Safeguards Data Sheet (ISDS),  Vol.1 of 1',\n    'DocType': 'ISDS',\n    'EntityID': '000442464_20131031112136',\n    'DocURL': 'http://www-wds.worldbank.org/servlet/WDSServlet?pcont=details&eid=000442464_20131031112136',\n    'DocDate': '29-MAR-2013'},\n   {'DocTypeDesc': 'Project Information Document (PID),  Vol.1 of 1',\n    'DocType': 'PID',\n    'EntityID': '000333037_20131031105716',\n    'DocURL': 'http://www-wds.worldbank.org/servlet/WDSServlet?pcont=details&eid=000333037_20131031105716',\n    'DocDate': '29-MAR-2013'},\n   {'DocTypeDesc': 'Integrated Safeguards Data Sheet (ISDS),  Vol.1 of 1',\n    'DocType': 'ISDS',\n    'EntityID': '000356161_20130305113209',\n    'DocURL': 'http://www-wds.worldbank.org/servlet/WDSServlet?pcont=details&eid=000356161_20130305113209',\n    'DocDate': '16-JAN-2013'},\n   {'DocTypeDesc': 'Project Information Document (PID),  Vol.1 of 1',\n    'DocType': 'PID',\n    'EntityID': '000356161_20130305113716',\n    'DocURL': 'http://www-wds.worldbank.org/servlet/WDSServlet?pcont=details&eid=000356161_20130305113716',\n    'DocDate': '16-JAN-2013'}],\n  'projectfinancialtype': 'OTHER',\n  'projectstatusdisplay': 'Active',\n  'regionname': 'Middle East and North Africa',\n  'sector': [{'Name': 'Public administration- Other social services'},\n   {'Name': 'General public administration sector'}],\n  'sector1': {'Name': 'Public administration- Other social services',\n   'Percent': 70},\n  'sector2': {'Name': 'General public administration sector', 'Percent': 30},\n  'sector_namecode': [{'name': 'Public administration- Other social services',\n    'code': 'BS'},\n   {'name': 'General public administration sector', 'code': 'BZ'}],\n  'sectorcode': 'BZ,BS',\n  'source': 'IBRD',\n  'status': 'Active',\n  'supplementprojectflg': 'N',\n  'theme1': {'Name': 'Other economic management', 'Percent': 30},\n  'theme_namecode': [{'name': 'Other economic management', 'code': '24'},\n   {'name': 'Social safety nets', 'code': '54'}],\n  'themecode': '54,24',\n  'totalamt': 0,\n  'totalcommamt': 4700000,\n  'url': 'http://www.worldbank.org/projects/P144674?lang=en'}]"
     },
     "execution_count": 6,
     "metadata": {},
     "output_type": "execute_result"
    }
   ],
   "source": [
    "# load json as string\n",
    "json.load((open('data/world_bank_projects_less.json')))"
   ]
  },
  {
   "cell_type": "code",
   "execution_count": 7,
   "metadata": {},
   "outputs": [
    {
     "data": {
      "text/html": "<div>\n<style scoped>\n    .dataframe tbody tr th:only-of-type {\n        vertical-align: middle;\n    }\n\n    .dataframe tbody tr th {\n        vertical-align: top;\n    }\n\n    .dataframe thead th {\n        text-align: right;\n    }\n</style>\n<table border=\"1\" class=\"dataframe\">\n  <thead>\n    <tr style=\"text-align: right;\">\n      <th></th>\n      <th>_id</th>\n      <th>approvalfy</th>\n      <th>board_approval_month</th>\n      <th>boardapprovaldate</th>\n      <th>borrower</th>\n      <th>closingdate</th>\n      <th>country_namecode</th>\n      <th>countrycode</th>\n      <th>countryname</th>\n      <th>countryshortname</th>\n      <th>...</th>\n      <th>sectorcode</th>\n      <th>source</th>\n      <th>status</th>\n      <th>supplementprojectflg</th>\n      <th>theme1</th>\n      <th>theme_namecode</th>\n      <th>themecode</th>\n      <th>totalamt</th>\n      <th>totalcommamt</th>\n      <th>url</th>\n    </tr>\n  </thead>\n  <tbody>\n    <tr>\n      <td>0</td>\n      <td>{'$oid': '52b213b38594d8a2be17c780'}</td>\n      <td>1999</td>\n      <td>November</td>\n      <td>2013-11-12T00:00:00Z</td>\n      <td>FEDERAL DEMOCRATIC REPUBLIC OF ETHIOPIA</td>\n      <td>2018-07-07T00:00:00Z</td>\n      <td>Federal Democratic Republic of Ethiopia!$!ET</td>\n      <td>ET</td>\n      <td>Federal Democratic Republic of Ethiopia</td>\n      <td>Ethiopia</td>\n      <td>...</td>\n      <td>ET,BS,ES,EP</td>\n      <td>IBRD</td>\n      <td>Active</td>\n      <td>N</td>\n      <td>{'Name': 'Education for all', 'Percent': 100}</td>\n      <td>[{'name': 'Education for all', 'code': '65'}]</td>\n      <td>65</td>\n      <td>130000000</td>\n      <td>130000000</td>\n      <td>http://www.worldbank.org/projects/P129828/ethi...</td>\n    </tr>\n    <tr>\n      <td>1</td>\n      <td>{'$oid': '52b213b38594d8a2be17c781'}</td>\n      <td>2015</td>\n      <td>November</td>\n      <td>2013-11-04T00:00:00Z</td>\n      <td>GOVERNMENT OF TUNISIA</td>\n      <td>NaN</td>\n      <td>Republic of Tunisia!$!TN</td>\n      <td>TN</td>\n      <td>Republic of Tunisia</td>\n      <td>Tunisia</td>\n      <td>...</td>\n      <td>BZ,BS</td>\n      <td>IBRD</td>\n      <td>Active</td>\n      <td>N</td>\n      <td>{'Name': 'Other economic management', 'Percent...</td>\n      <td>[{'name': 'Other economic management', 'code':...</td>\n      <td>54,24</td>\n      <td>0</td>\n      <td>4700000</td>\n      <td>http://www.worldbank.org/projects/P144674?lang=en</td>\n    </tr>\n  </tbody>\n</table>\n<p>2 rows × 50 columns</p>\n</div>",
      "text/plain": "                                    _id  approvalfy board_approval_month  \\\n0  {'$oid': '52b213b38594d8a2be17c780'}        1999             November   \n1  {'$oid': '52b213b38594d8a2be17c781'}        2015             November   \n\n      boardapprovaldate                                 borrower  \\\n0  2013-11-12T00:00:00Z  FEDERAL DEMOCRATIC REPUBLIC OF ETHIOPIA   \n1  2013-11-04T00:00:00Z                    GOVERNMENT OF TUNISIA   \n\n            closingdate                              country_namecode  \\\n0  2018-07-07T00:00:00Z  Federal Democratic Republic of Ethiopia!$!ET   \n1                   NaN                      Republic of Tunisia!$!TN   \n\n  countrycode                              countryname countryshortname  ...  \\\n0          ET  Federal Democratic Republic of Ethiopia         Ethiopia  ...   \n1          TN                      Republic of Tunisia          Tunisia  ...   \n\n    sectorcode source  status  supplementprojectflg  \\\n0  ET,BS,ES,EP   IBRD  Active                     N   \n1        BZ,BS   IBRD  Active                     N   \n\n                                              theme1  \\\n0      {'Name': 'Education for all', 'Percent': 100}   \n1  {'Name': 'Other economic management', 'Percent...   \n\n                                      theme_namecode themecode   totalamt  \\\n0      [{'name': 'Education for all', 'code': '65'}]        65  130000000   \n1  [{'name': 'Other economic management', 'code':...     54,24          0   \n\n  totalcommamt                                                url  \n0    130000000  http://www.worldbank.org/projects/P129828/ethi...  \n1      4700000  http://www.worldbank.org/projects/P144674?lang=en  \n\n[2 rows x 50 columns]"
     },
     "execution_count": 7,
     "metadata": {},
     "output_type": "execute_result"
    }
   ],
   "source": [
    "# load as Pandas dataframe\n",
    "sample_json_df = pd.read_json('data/world_bank_projects_less.json')\n",
    "sample_json_df"
   ]
  },
  {
   "cell_type": "markdown",
   "metadata": {},
   "source": [
    "****\n",
    "## JSON exercise\n",
    "\n",
    "Using data in file 'data/world_bank_projects.json' and the techniques demonstrated above,\n",
    "1. Find the 10 countries with most projects\n",
    "2. Find the top 10 major project themes (using column 'mjtheme_namecode')\n",
    "3. In 2. above you will notice that some entries have only the code and the name is missing. Create a dataframe with the missing names filled in."
   ]
  },
  {
   "cell_type": "markdown",
   "execution_count": 8,
   "metadata": {},
   "outputs": [],
   "source": [
    "Let's start with importing json file as pandas DataFrame"
   ]
  },
  {
   "cell_type": "code",
   "execution_count": 8,
   "metadata": {},
   "outputs": [],
   "source": [
    "df = pd.read_json('data/world_bank_projects.json')"
   ]
  },
  {
   "cell_type": "markdown",
   "execution_count": null,
   "metadata": {},
   "outputs": [],
   "source": [
    "We need to look into keys to count the countries with most projects"
   ]
  },
  {
   "cell_type": "code",
   "execution_count": 9,
   "metadata": {},
   "outputs": [
    {
     "data": {
      "text/plain": "Index(['sector', 'supplementprojectflg', 'projectfinancialtype', 'prodline',\n       'mjtheme', 'idacommamt', 'impagency', 'project_name', 'mjthemecode',\n       'closingdate', 'totalcommamt', 'id', 'mjsector_namecode', 'docty',\n       'sector1', 'lendinginstr', 'countrycode', 'sector2', 'totalamt',\n       'mjtheme_namecode', 'boardapprovaldate', 'countryshortname', 'sector4',\n       'prodlinetext', 'productlinetype', 'regionname', 'status',\n       'country_namecode', 'envassesmentcategorycode', 'project_abstract',\n       'approvalfy', 'projectdocs', 'lendprojectcost', 'lendinginstrtype',\n       'theme1', 'grantamt', 'themecode', 'borrower', 'sectorcode', 'sector3',\n       'majorsector_percent', 'board_approval_month', 'theme_namecode',\n       'countryname', 'url', 'source', 'projectstatusdisplay', 'ibrdcommamt',\n       'sector_namecode', '_id'],\n      dtype='object')"
     },
     "execution_count": 9,
     "metadata": {},
     "output_type": "execute_result"
    }
   ],
   "source": [
    "df.keys()"
   ]
  },
  {
   "cell_type": "markdown",
   "execution_count": null,
   "metadata": {},
   "outputs": [],
   "source": [
    "### 1.It looks like the key 'countryname' would be useful to count"
   ]
  },
  {
   "cell_type": "code",
   "execution_count": 10,
   "metadata": {},
   "outputs": [
    {
     "data": {
      "text/html": "<div>\n<style scoped>\n    .dataframe tbody tr th:only-of-type {\n        vertical-align: middle;\n    }\n\n    .dataframe tbody tr th {\n        vertical-align: top;\n    }\n\n    .dataframe thead th {\n        text-align: right;\n    }\n</style>\n<table border=\"1\" class=\"dataframe\">\n  <thead>\n    <tr style=\"text-align: right;\">\n      <th></th>\n      <th>Country_Name</th>\n      <th>Number_of_Projects</th>\n    </tr>\n  </thead>\n  <tbody>\n    <tr>\n      <td>0</td>\n      <td>People's Republic of China</td>\n      <td>19</td>\n    </tr>\n    <tr>\n      <td>1</td>\n      <td>Republic of Indonesia</td>\n      <td>19</td>\n    </tr>\n    <tr>\n      <td>2</td>\n      <td>Socialist Republic of Vietnam</td>\n      <td>17</td>\n    </tr>\n    <tr>\n      <td>3</td>\n      <td>Republic of India</td>\n      <td>16</td>\n    </tr>\n    <tr>\n      <td>4</td>\n      <td>Republic of Yemen</td>\n      <td>13</td>\n    </tr>\n    <tr>\n      <td>5</td>\n      <td>People's Republic of Bangladesh</td>\n      <td>12</td>\n    </tr>\n    <tr>\n      <td>6</td>\n      <td>Kingdom of Morocco</td>\n      <td>12</td>\n    </tr>\n    <tr>\n      <td>7</td>\n      <td>Nepal</td>\n      <td>12</td>\n    </tr>\n    <tr>\n      <td>8</td>\n      <td>Republic of Mozambique</td>\n      <td>11</td>\n    </tr>\n    <tr>\n      <td>9</td>\n      <td>Africa</td>\n      <td>11</td>\n    </tr>\n  </tbody>\n</table>\n</div>",
      "text/plain": "                      Country_Name  Number_of_Projects\n0       People's Republic of China                  19\n1            Republic of Indonesia                  19\n2    Socialist Republic of Vietnam                  17\n3                Republic of India                  16\n4                Republic of Yemen                  13\n5  People's Republic of Bangladesh                  12\n6               Kingdom of Morocco                  12\n7                            Nepal                  12\n8           Republic of Mozambique                  11\n9                           Africa                  11"
     },
     "execution_count": 10,
     "metadata": {},
     "output_type": "execute_result"
    }
   ],
   "source": [
    "# Create new DataFrame\n",
    "frame1 = df.countryname.value_counts().to_frame()\n",
    "# Reset countryname index\n",
    "frame1.reset_index(inplace=True)\n",
    "# Assign new column names\n",
    "frame1.columns = ['Country_Name','Number_of_Projects']\n",
    "# Print the first 10 countries\n",
    "frame1.head(10)\n"
   ]
  },
  {
   "cell_type": "markdown",
   "execution_count": null,
   "metadata": {},
   "outputs": [],
   "source": [
    "### 2. With the similar procedure we can find the top 10 major project theme\n",
    "\n",
    "mjtheme_namecode column consists list of dictionaries. So, we need to extract that in a loop"
   ]
  },
  {
   "cell_type": "code",
   "execution_count": 11,
   "metadata": {},
   "outputs": [
    {
     "data": {
      "text/plain": "[{'code': '8', 'name': 'Human development'}, {'code': '11', 'name': ''}]"
     },
     "execution_count": 11,
     "metadata": {},
     "output_type": "execute_result"
    }
   ],
   "source": [
    "df[\"mjtheme_namecode\"][0]"
   ]
  },
  {
   "cell_type": "code",
   "execution_count": 12,
   "metadata": {},
   "outputs": [
    {
     "data": {
      "text/html": "<div>\n<style scoped>\n    .dataframe tbody tr th:only-of-type {\n        vertical-align: middle;\n    }\n\n    .dataframe tbody tr th {\n        vertical-align: top;\n    }\n\n    .dataframe thead th {\n        text-align: right;\n    }\n</style>\n<table border=\"1\" class=\"dataframe\">\n  <thead>\n    <tr style=\"text-align: right;\">\n      <th></th>\n      <th>Project_Name</th>\n      <th>Project_Counts</th>\n    </tr>\n  </thead>\n  <tbody>\n    <tr>\n      <td>0</td>\n      <td>Environment and natural resources management</td>\n      <td>223</td>\n    </tr>\n    <tr>\n      <td>1</td>\n      <td>Rural development</td>\n      <td>202</td>\n    </tr>\n    <tr>\n      <td>2</td>\n      <td>Human development</td>\n      <td>197</td>\n    </tr>\n    <tr>\n      <td>3</td>\n      <td>Public sector governance</td>\n      <td>184</td>\n    </tr>\n    <tr>\n      <td>4</td>\n      <td>Social protection and risk management</td>\n      <td>158</td>\n    </tr>\n    <tr>\n      <td>5</td>\n      <td>Financial and private sector development</td>\n      <td>130</td>\n    </tr>\n    <tr>\n      <td>6</td>\n      <td></td>\n      <td>122</td>\n    </tr>\n    <tr>\n      <td>7</td>\n      <td>Social dev/gender/inclusion</td>\n      <td>119</td>\n    </tr>\n    <tr>\n      <td>8</td>\n      <td>Trade and integration</td>\n      <td>72</td>\n    </tr>\n    <tr>\n      <td>9</td>\n      <td>Urban development</td>\n      <td>47</td>\n    </tr>\n  </tbody>\n</table>\n</div>",
      "text/plain": "                                   Project_Name  Project_Counts\n0  Environment and natural resources management             223\n1                             Rural development             202\n2                             Human development             197\n3                      Public sector governance             184\n4         Social protection and risk management             158\n5      Financial and private sector development             130\n6                                                           122\n7                   Social dev/gender/inclusion             119\n8                         Trade and integration              72\n9                             Urban development              47"
     },
     "execution_count": 12,
     "metadata": {},
     "output_type": "execute_result"
    }
   ],
   "source": [
    "# Create a temporary Pandas DataFrame that has two columns: code and name\n",
    "temp = pd.DataFrame(columns=['code','name'])\n",
    "# Extract the data\n",
    "for row in df.mjtheme_namecode:\n",
    "    temp = temp.append(json_normalize(row))\n",
    "# Reset Index\n",
    "temp.reset_index(drop=True,inplace=True)\n",
    "# Count values and assign it to the new df\n",
    "th = temp.name.value_counts().to_frame()\n",
    "th.reset_index(inplace=True)\n",
    "# Column Assignment\n",
    "th.columns = ['Project_Name','Project_Counts']\n",
    "# Print top 10\n",
    "th.head(10)"
   ]
  },
  {
   "cell_type": "markdown",
   "execution_count": 17,
   "metadata": {},
   "outputs": [
    {
     "data": {
      "text/html": "<div>\n<style scoped>\n    .dataframe tbody tr th:only-of-type {\n        vertical-align: middle;\n    }\n\n    .dataframe tbody tr th {\n        vertical-align: top;\n    }\n\n    .dataframe thead th {\n        text-align: right;\n    }\n</style>\n<table border=\"1\" class=\"dataframe\">\n  <thead>\n    <tr style=\"text-align: right;\">\n      <th></th>\n      <th>code</th>\n      <th>name</th>\n    </tr>\n  </thead>\n  <tbody>\n    <tr>\n      <td>0</td>\n      <td>8</td>\n      <td>Human development</td>\n    </tr>\n    <tr>\n      <td>1</td>\n      <td>11</td>\n      <td></td>\n    </tr>\n    <tr>\n      <td>2</td>\n      <td>1</td>\n      <td>Economic management</td>\n    </tr>\n    <tr>\n      <td>3</td>\n      <td>6</td>\n      <td>Social protection and risk management</td>\n    </tr>\n    <tr>\n      <td>4</td>\n      <td>5</td>\n      <td>Trade and integration</td>\n    </tr>\n  </tbody>\n</table>\n</div>",
      "text/plain": "  code                                   name\n0    8                      Human development\n1   11                                       \n2    1                    Economic management\n3    6  Social protection and risk management\n4    5                  Trade and integration"
     },
     "execution_count": 17,
     "metadata": {},
     "output_type": "execute_result"
    }
   ],
   "source": [
    "### 3. Filling Missing Values\n",
    "        "
   ]
  },
  {
   "cell_type": "code",
   "execution_count": 13,
   "metadata": {},
   "outputs": [
    {
     "data": {
      "text/plain": "0      1\n1      2\n2      3\n3      4\n4      5\n5      6\n6      7\n7      8\n8      9\n9     10\n10    11\nName: code, dtype: int64"
     },
     "execution_count": 13,
     "metadata": {},
     "output_type": "execute_result"
    }
   ],
   "source": [
    "# Let's start with how many different type of project codes in temp DataFrame\n",
    "codes = pd.to_numeric(temp.code.drop_duplicates()).sort_values(ascending=True).reset_index(drop=True)\n",
    "codes # 11 different codes"
   ]
  },
  {
   "cell_type": "code",
   "execution_count": 14,
   "metadata": {},
   "outputs": [],
   "source": [
    "# Create an empty DataFrame\n",
    "th_filled = temp.copy(deep=True)\n",
    "# Now extract each code's corresponding name\n",
    "for idx, value in codes.items():\n",
    "    # Create dummy variable to extract a name\n",
    "    dummy = temp[temp.code == str(value)].drop_duplicates()\n",
    "    # Set the indexing condition\n",
    "    cond = (temp.name == '') & (temp.code == str(value))\n",
    "    # ASsign Values\n",
    "    th_filled.loc[cond,'name'] = dummy[dummy.name!=''].name.values\n"
   ]
  },
  {
   "cell_type": "code",
   "execution_count": 15,
   "metadata": {},
   "outputs": [
    {
     "data": {
      "text/html": "<div>\n<style scoped>\n    .dataframe tbody tr th:only-of-type {\n        vertical-align: middle;\n    }\n\n    .dataframe tbody tr th {\n        vertical-align: top;\n    }\n\n    .dataframe thead th {\n        text-align: right;\n    }\n</style>\n<table border=\"1\" class=\"dataframe\">\n  <thead>\n    <tr style=\"text-align: right;\">\n      <th></th>\n      <th>Project_Name</th>\n      <th>Project_Counts</th>\n    </tr>\n  </thead>\n  <tbody>\n    <tr>\n      <td>0</td>\n      <td>Environment and natural resources management</td>\n      <td>250</td>\n    </tr>\n    <tr>\n      <td>1</td>\n      <td>Rural development</td>\n      <td>216</td>\n    </tr>\n    <tr>\n      <td>2</td>\n      <td>Human development</td>\n      <td>210</td>\n    </tr>\n    <tr>\n      <td>3</td>\n      <td>Public sector governance</td>\n      <td>199</td>\n    </tr>\n    <tr>\n      <td>4</td>\n      <td>Social protection and risk management</td>\n      <td>168</td>\n    </tr>\n    <tr>\n      <td>5</td>\n      <td>Financial and private sector development</td>\n      <td>146</td>\n    </tr>\n    <tr>\n      <td>6</td>\n      <td>Social dev/gender/inclusion</td>\n      <td>130</td>\n    </tr>\n    <tr>\n      <td>7</td>\n      <td>Trade and integration</td>\n      <td>77</td>\n    </tr>\n    <tr>\n      <td>8</td>\n      <td>Urban development</td>\n      <td>50</td>\n    </tr>\n    <tr>\n      <td>9</td>\n      <td>Economic management</td>\n      <td>38</td>\n    </tr>\n  </tbody>\n</table>\n</div>",
      "text/plain": "                                   Project_Name  Project_Counts\n0  Environment and natural resources management             250\n1                             Rural development             216\n2                             Human development             210\n3                      Public sector governance             199\n4         Social protection and risk management             168\n5      Financial and private sector development             146\n6                   Social dev/gender/inclusion             130\n7                         Trade and integration              77\n8                             Urban development              50\n9                           Economic management              38"
     },
     "execution_count": 15,
     "metadata": {},
     "output_type": "execute_result"
    }
   ],
   "source": [
    "# Count values and assign it to the new df\n",
    "th2 = th_filled.name.value_counts().to_frame()\n",
    "th2.reset_index(inplace=True)\n",
    "# Column Assignment\n",
    "th2.columns = ['Project_Name','Project_Counts']\n",
    "# Print top 10\n",
    "th2.head(10)"
   ]
  }
 ],
 "metadata": {
  "kernelspec": {
   "display_name": "Python 3.7.4 64-bit ('base': conda)",
   "language": "python",
   "name": "python37464bitbaseconda0eda0e443b1a4554aa26a26499408e10"
  },
  "language_info": {
   "codemirror_mode": {
    "name": "ipython",
    "version": 3
   },
   "file_extension": ".py",
   "mimetype": "text/x-python",
   "name": "python",
   "nbconvert_exporter": "python",
   "pygments_lexer": "ipython3",
   "version": "3.7.4-final"
  }
 },
 "nbformat": 4,
 "nbformat_minor": 1
}